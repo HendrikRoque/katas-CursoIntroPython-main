{
 "cells": [
  {
   "cell_type": "markdown",
   "metadata": {},
   "source": [
    "# Operadores Matematicos Kata 5"
   ]
  },
  {
   "cell_type": "code",
   "execution_count": 17,
   "metadata": {},
   "outputs": [
    {
     "name": "stdout",
     "output_type": "stream",
     "text": [
      "628949330  km \n",
      "390577533.9 milla\n"
     ]
    }
   ],
   "source": [
    "planeta_1TIERRA= 149597870\n",
    "planeta_2JUPITER= 778547200 \n",
    "\n",
    "dist=planeta_2JUPITER-planeta_1TIERRA\n",
    "\n",
    "\n",
    "print(dist, ' km ')\n",
    "distW=dist*0.621\n",
    "print(\"{:.1f}\".format(distW), 'milla')"
   ]
  },
  {
   "cell_type": "markdown",
   "metadata": {},
   "source": [
    "# Ejercicio 2"
   ]
  },
  {
   "cell_type": "code",
   "execution_count": 20,
   "metadata": {},
   "outputs": [
    {
     "name": "stdout",
     "output_type": "stream",
     "text": [
      "La distancia entre estos es  5.00 km\n",
      "en millas  3.1\n"
     ]
    }
   ],
   "source": [
    "PrimerplanetaC=input(\"Introduzca la distancia km del primer planeta, el más cercano o menor magnitud\")\n",
    "SegundoplanetaL=input(\"Introduzca la distancia km del segundo planeta, más legano o de mayor magnitud\")\n",
    "\n",
    "P1=float(PrimerplanetaC)\n",
    "P2=float(SegundoplanetaL)\n",
    "\n",
    "dist= P2-P1\n",
    "\n",
    "print(\"La distancia entre estos es \", \"{:.2f}\".format(dist) , \"km\")\n",
    "print(\"en millas \", \"{:.2}\".format(dist*0.621))\n",
    "\n"
   ]
  }
 ],
 "metadata": {
  "interpreter": {
   "hash": "e254dae3ee5775a159edefce5ecff893076bde2a2d880af09a47fb22ac1ec166"
  },
  "kernelspec": {
   "display_name": "Python 3.9.10 64-bit",
   "language": "python",
   "name": "python3"
  },
  "language_info": {
   "codemirror_mode": {
    "name": "ipython",
    "version": 3
   },
   "file_extension": ".py",
   "mimetype": "text/x-python",
   "name": "python",
   "nbconvert_exporter": "python",
   "pygments_lexer": "ipython3",
   "version": "3.9.10"
  },
  "orig_nbformat": 4
 },
 "nbformat": 4,
 "nbformat_minor": 2
}
