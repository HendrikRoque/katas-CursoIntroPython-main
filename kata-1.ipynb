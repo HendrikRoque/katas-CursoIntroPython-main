{
 "cells": [
  {
   "cell_type": "markdown",
   "metadata": {},
   "source": [
    "# kata 1"
   ]
  },
  {
   "cell_type": "code",
   "execution_count": 3,
   "metadata": {},
   "outputs": [
    {
     "name": "stdout",
     "output_type": "stream",
     "text": [
      "today´s date is: 2022-02-10\n"
     ]
    }
   ],
   "source": [
    "from datetime import date\n",
    "\n",
    "print(\"today´s date is: \"  + str(date.today()))\n"
   ]
  },
  {
   "cell_type": "code",
   "execution_count": 24,
   "metadata": {},
   "outputs": [
    {
     "name": "stdout",
     "output_type": "stream",
     "text": [
      "11 parsec, is 35.877 lightyears\n"
     ]
    }
   ],
   "source": [
    "\n",
    "parsec= input(\"Cuantos parsecs quieres convertir a años luz: \")\n",
    "lithtyears = 3.26156 * float(parsec) \n",
    "\n",
    "print(str(parsec) + \" parsec, is \" + str(\"{:.3f}\".format(lithtyears)) + \" lightyears\" )"
   ]
  }
 ],
 "metadata": {
  "interpreter": {
   "hash": "e254dae3ee5775a159edefce5ecff893076bde2a2d880af09a47fb22ac1ec166"
  },
  "kernelspec": {
   "display_name": "Python 3.9.10 64-bit",
   "language": "python",
   "name": "python3"
  },
  "language_info": {
   "codemirror_mode": {
    "name": "ipython",
    "version": 3
   },
   "file_extension": ".py",
   "mimetype": "text/x-python",
   "name": "python",
   "nbconvert_exporter": "python",
   "pygments_lexer": "ipython3",
   "version": "3.9.10"
  },
  "orig_nbformat": 4
 },
 "nbformat": 4,
 "nbformat_minor": 2
}
